{
  "nbformat": 4,
  "nbformat_minor": 0,
  "metadata": {
    "colab": {
      "provenance": [],
      "authorship_tag": "ABX9TyPM3Cy50aF+fJQTRg6mr00I",
      "include_colab_link": true
    },
    "kernelspec": {
      "name": "python3",
      "display_name": "Python 3"
    },
    "language_info": {
      "name": "python"
    }
  },
  "cells": [
    {
      "cell_type": "markdown",
      "metadata": {
        "id": "view-in-github",
        "colab_type": "text"
      },
      "source": [
        "<a href=\"https://colab.research.google.com/github/tiagoflorin/DataScience1/blob/clase_2/clase_2.ipynb\" target=\"_parent\"><img src=\"https://colab.research.google.com/assets/colab-badge.svg\" alt=\"Open In Colab\"/></a>"
      ]
    },
    {
      "cell_type": "code",
      "execution_count": null,
      "metadata": {
        "colab": {
          "base_uri": "https://localhost:8080/"
        },
        "id": "DDu4rSq53D4v",
        "outputId": "777afb7a-c285-418c-8b4c-e50fe15ca208"
      },
      "outputs": [
        {
          "output_type": "stream",
          "name": "stdout",
          "text": [
            "\n",
            "1.  Hugo\n",
            "2.  Martín\n",
            "3.  Lucas\n",
            "4.  Mateo\n",
            "5.  Leo\n",
            "6.  Daniel\n",
            "7.  Alejandro\n",
            "8.  Pablo\n",
            "9.  Manuel\n",
            "10.  Álvaro\n",
            "11.  Adrián\n",
            "12.  David\n",
            "13.  Mario\n",
            "\n"
          ]
        }
      ],
      "source": [
        "lista_de_nombres = \"\"\"\n",
        "1.  Hugo\n",
        "2.  Martín\n",
        "3.  Lucas\n",
        "4.  Mateo\n",
        "5.  Leo\n",
        "6.  Daniel\n",
        "7.  Alejandro\n",
        "8.  Pablo\n",
        "9.  Manuel\n",
        "10.  Álvaro\n",
        "11.  Adrián\n",
        "12.  David\n",
        "13.  Mario\n",
        "\"\"\"\n",
        "\n",
        "print(lista_de_nombres)\n"
      ]
    },
    {
      "cell_type": "code",
      "source": [],
      "metadata": {
        "id": "B-KcAJld8H5f"
      },
      "execution_count": null,
      "outputs": []
    },
    {
      "cell_type": "code",
      "source": [
        "lista_cleaned =  lista_de_nombres.split(\"\\n\")"
      ],
      "metadata": {
        "id": "0tN5qVWO5-w4"
      },
      "execution_count": null,
      "outputs": []
    },
    {
      "cell_type": "code",
      "source": [
        "lista_cleaned"
      ],
      "metadata": {
        "colab": {
          "base_uri": "https://localhost:8080/"
        },
        "id": "DPFNvSdw8J4V",
        "outputId": "aa6d136b-ca00-4f09-c026-a52145c94efc"
      },
      "execution_count": null,
      "outputs": [
        {
          "output_type": "execute_result",
          "data": {
            "text/plain": [
              "['',\n",
              " '1.  Hugo',\n",
              " '2.  Martín',\n",
              " '3.  Lucas',\n",
              " '4.  Mateo',\n",
              " '5.  Leo',\n",
              " '6.  Daniel',\n",
              " '7.  Alejandro',\n",
              " '8.  Pablo',\n",
              " '9.  Manuel',\n",
              " '10.  Álvaro',\n",
              " '11.  Adrián',\n",
              " '12.  David',\n",
              " '13.  Mario',\n",
              " '']"
            ]
          },
          "metadata": {},
          "execution_count": 16
        }
      ]
    },
    {
      "cell_type": "code",
      "source": [
        "lista_completamente_limpia = []"
      ],
      "metadata": {
        "id": "gc7fOF9OAQ8g"
      },
      "execution_count": null,
      "outputs": []
    },
    {
      "cell_type": "code",
      "source": [
        "for name in lista_cleaned:\n",
        "    if name  == \"\":\n",
        "        print(\"vacio\")\n",
        "    else:\n",
        "        solo_nombre = name.split(\"  \")[1]\n",
        "        lista_completamente_limpia.append(solo_nombre)"
      ],
      "metadata": {
        "colab": {
          "base_uri": "https://localhost:8080/"
        },
        "id": "36G6YOLU8wJe",
        "outputId": "9c523213-b94f-463f-c08d-56f111708383"
      },
      "execution_count": null,
      "outputs": [
        {
          "output_type": "stream",
          "name": "stdout",
          "text": [
            "vacio\n",
            "vacio\n"
          ]
        }
      ]
    },
    {
      "cell_type": "code",
      "source": [
        "lista_completamente_limpia"
      ],
      "metadata": {
        "colab": {
          "base_uri": "https://localhost:8080/"
        },
        "id": "0PFLZl9UGjBF",
        "outputId": "6fde8155-3c21-4a82-f7a9-f79922076199"
      },
      "execution_count": null,
      "outputs": [
        {
          "output_type": "execute_result",
          "data": {
            "text/plain": [
              "['Hugo',\n",
              " 'Martín',\n",
              " 'Lucas',\n",
              " 'Mateo',\n",
              " 'Leo',\n",
              " 'Daniel',\n",
              " 'Alejandro',\n",
              " 'Pablo',\n",
              " 'Manuel',\n",
              " 'Álvaro',\n",
              " 'Adrián',\n",
              " 'David',\n",
              " 'Mario']"
            ]
          },
          "metadata": {},
          "execution_count": 36
        }
      ]
    }
  ]
}