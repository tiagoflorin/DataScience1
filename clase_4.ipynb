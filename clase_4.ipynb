{
  "nbformat": 4,
  "nbformat_minor": 0,
  "metadata": {
    "colab": {
      "provenance": [],
      "toc_visible": true,
      "authorship_tag": "ABX9TyNdCtlAW7ikGRU4Z7X1f9m8",
      "include_colab_link": true
    },
    "kernelspec": {
      "name": "python3",
      "display_name": "Python 3"
    },
    "language_info": {
      "name": "python"
    }
  },
  "cells": [
    {
      "cell_type": "markdown",
      "metadata": {
        "id": "view-in-github",
        "colab_type": "text"
      },
      "source": [
        "<a href=\"https://colab.research.google.com/github/tiagoflorin/DataScience1/blob/clase_4/clase_4.ipynb\" target=\"_parent\"><img src=\"https://colab.research.google.com/assets/colab-badge.svg\" alt=\"Open In Colab\"/></a>"
      ]
    },
    {
      "cell_type": "code",
      "execution_count": 1,
      "metadata": {
        "id": "DIcy1z47f6U1"
      },
      "outputs": [],
      "source": [
        "import numpy as np\n",
        "import pandas as pd\n",
        "import matplotlib.pyplot as plt\n",
        "from sklearn.impute import KNNImputer\n",
        "from sklearn.preprocessing import LabelEncoder\n"
      ]
    },
    {
      "cell_type": "code",
      "source": [
        "MARKET_STORE_URL = \"/content/datasets/market_data.csv\""
      ],
      "metadata": {
        "id": "z5C5xZnHxc1I"
      },
      "execution_count": 2,
      "outputs": []
    },
    {
      "cell_type": "code",
      "source": [
        "class MarketStore:\n",
        "    def __init__(self, url):\n",
        "        self.url = url\n",
        "        self.dataframe = None\n",
        "        self.dataframe_imputed_knn = None\n",
        "\n",
        "    def get_dataframe(self):\n",
        "        self.dataframe = pd.read_csv(self.url)\n",
        "        return self.dataframe\n",
        "\n",
        "    def get_information(self):\n",
        "        print(\"\\nInformacion de los primeros registros\")\n",
        "        print(self.dataframe.head())\n",
        "        print(\"\\nInformacion sobre los datos  columnas y valores nulls\")\n",
        "        print(self.dataframe.info())\n",
        "        print(\"\\nInformacion estadistica de los datos\")\n",
        "        print(self.dataframe.describe().transpose())\n",
        "\n",
        "    def nullish_counting(self):\n",
        "        # return self.dataframe.isnull().sum()\n",
        "        total_rows= len(self.dataframe)\n",
        "        null_percentage = (self.dataframe.isnull().sum() / total_rows) * 100\n",
        "        null_percentage_sorted = null_percentage.sort_values(ascending=False)\n",
        "\n",
        "\n",
        "        plt.figure(figsize=(16, 9))\n",
        "        ax = null_percentage_sorted.plot(kind='bar', color=\"skyblue\")\n",
        "        ax.set_xlabel(\"Columnas\")\n",
        "        ax.set_ylabel(\"Porcentaje de valores nulos\")\n",
        "        ax.set_title(\"Porcentaje de valores nulos por columna\")\n",
        "        ax.set_xticklabels(ax.get_xticklabels(), rotation=45, ha='right')\n",
        "        plt.show()\n",
        "\n",
        "    def imputar_manual(self):\n",
        "\n",
        "        data_fullfilled = self.dataframe.copy()\n",
        "\n",
        "        for col in self.dataframe.select_dtypes(include=['object']).columns:\n",
        "            self.dataframe[col].fillna(self.dataframe[col].mode()[0], inplace=True)\n",
        "\n",
        "        for col in self.dataframe.select_dtypes(include=['number']).columns:\n",
        "            self.dataframe[col].fillna(self.dataframe[col].mean(), inplace=True)\n",
        "\n",
        "\n",
        "    def imputacion_knn_imputer(self, n_neighbors=4):\n",
        "        # Copia del dataset original\n",
        "        df_encoder = self.dataframe.copy()\n",
        "        encoders = {}\n",
        "\n",
        "        # Detectar columnas categóricas\n",
        "        category_columns = df_encoder.select_dtypes(include=['object', 'category']).columns\n",
        "\n",
        "        for col in category_columns:\n",
        "            print(f\"Se le aplicará el siguiente mapeo a la columna: {col}\")\n",
        "            le = LabelEncoder()\n",
        "            # hacer una mascara para evitar los valores no existen como nan values\n",
        "            # como datos categoricos\n",
        "            not_null_values = df_encoder[col].notnull()\n",
        "            df_encoder.loc[not_null_values, col] = le.fit_transform(df_encoder.loc[not_null_values, col]).astype(str)\n",
        "            df_encoder.loc[~not_null_values,col] = np.nan\n",
        "            encoders[col] = le\n",
        "\n",
        "        # Imputación con KNN\n",
        "        imputer = KNNImputer(n_neighbors=n_neighbors)\n",
        "        data_imputed = imputer.fit_transform(df_encoder)\n",
        "        self.dataframe_imputed_knn = pd.DataFrame(data_imputed, columns=df_encoder.columns)\n",
        "\n",
        "        # Decodificación\n",
        "        df_decoded = self.dataframe_imputed_knn.copy()\n",
        "        for col, le in encoders.items():\n",
        "            if col in df_decoded.columns:\n",
        "                print(f\"Se le aplicará el decoding para: {col}\")\n",
        "                df_decoded[col] = le.inverse_transform(df_decoded[col].astype(int))\n",
        "\n",
        "        self.dataframe_imputed_knn = df_decoded\n",
        "\n",
        "\n",
        "    def plot_distribution(self,columna):\n",
        "\n",
        "        if pd.api.types.is_numeric_dtype(self.dataframe[columna]):\n",
        "            plt.figure(figsize=(16, 9))\n",
        "            plt.subplot(1, 2, 1)\n",
        "            plt.boxplot(self.dataframe[columna])\n",
        "            plt.title(f'Boxplot de {columna}')\n",
        "\n",
        "            plt.subplot(1, 2, 2)\n",
        "            plt.hist(self.dataframe[columna], bins=20, edgecolor='k')\n",
        "            plt.title(f'Histograma de {columna}')\n",
        "            plt.tight_layout()\n",
        "            plt.show()\n",
        "        else:\n",
        "            plt.figure(figsize=(16, 9))\n",
        "            self.dataframe[columna].value_counts().plot(kind='bar')\n",
        "            plt.title(f'Frecuencia de {columna}')\n",
        "            plt.xlabel(columna)\n",
        "            plt.ylabel('Frecuencia')\n",
        "            plt.xticks(rotation=45)\n",
        "            plt.tight_layout()\n",
        "            plt.show()\n",
        "\n",
        "    def plot_distribution_knn(self,columna):\n",
        "\n",
        "        if pd.api.types.is_numeric_dtype(self.dataframe_imputed_knn[columna]):\n",
        "            plt.figure(figsize=(16, 9))\n",
        "            plt.subplot(1, 2, 1)\n",
        "            plt.boxplot(self.dataframe_imputed_knn[columna])\n",
        "            plt.title(f'Boxplot de {columna}')\n",
        "\n",
        "            plt.subplot(1, 2, 2)\n",
        "            plt.hist(self.dataframe_imputed_knn[columna], bins=20, edgecolor='k')\n",
        "            plt.title(f'Histograma de {columna}')\n",
        "            plt.tight_layout()\n",
        "            plt.show()\n",
        "        else:\n",
        "            plt.figure(figsize=(16, 9))\n",
        "            self.dataframe_imputed_knn[columna].value_counts().plot(kind='bar')\n",
        "            plt.title(f'Frecuencia de {columna}')\n",
        "            plt.xlabel(columna)\n",
        "            plt.ylabel('Frecuencia')\n",
        "            plt.xticks(rotation=45)\n",
        "            plt.tight_layout()\n",
        "            plt.show()\n"
      ],
      "metadata": {
        "id": "nlHw6BQ_yw1l"
      },
      "execution_count": 3,
      "outputs": []
    },
    {
      "cell_type": "code",
      "source": [
        "market_store.get_information()"
      ],
      "metadata": {
        "colab": {
          "base_uri": "https://localhost:8080/",
          "height": 139
        },
        "id": "6iIDzB3sih6a",
        "outputId": "3718dde5-6839-4cde-b8bc-486a2f3b2eca"
      },
      "execution_count": 5,
      "outputs": [
        {
          "output_type": "error",
          "ename": "NameError",
          "evalue": "name 'market_store' is not defined",
          "traceback": [
            "\u001b[0;31m---------------------------------------------------------------------------\u001b[0m",
            "\u001b[0;31mNameError\u001b[0m                                 Traceback (most recent call last)",
            "\u001b[0;32m/tmp/ipython-input-5-719647370.py\u001b[0m in \u001b[0;36m<cell line: 0>\u001b[0;34m()\u001b[0m\n\u001b[0;32m----> 1\u001b[0;31m \u001b[0mmarket_store\u001b[0m\u001b[0;34m.\u001b[0m\u001b[0mget_information\u001b[0m\u001b[0;34m(\u001b[0m\u001b[0;34m)\u001b[0m\u001b[0;34m\u001b[0m\u001b[0;34m\u001b[0m\u001b[0m\n\u001b[0m",
            "\u001b[0;31mNameError\u001b[0m: name 'market_store' is not defined"
          ]
        }
      ]
    },
    {
      "cell_type": "code",
      "source": [
        "market_store = Marketstore(MARKET_STORE_URL)"
      ],
      "metadata": {
        "id": "dzAKaQYchiPZ"
      },
      "execution_count": null,
      "outputs": []
    },
    {
      "cell_type": "code",
      "source": [
        "market_store.get_dataframe()"
      ],
      "metadata": {
        "id": "2rTbwSVEhKqm"
      },
      "execution_count": null,
      "outputs": []
    }
  ]
}